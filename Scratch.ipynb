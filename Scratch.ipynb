{
 "cells": [
  {
   "cell_type": "code",
   "execution_count": 1,
   "metadata": {},
   "outputs": [
    {
     "data": {
      "text/plain": [
       "4-element Array{String,1}:\n",
       " \"@\"      \n",
       " \"@v#.#\"  \n",
       " \"@stdlib\"\n",
       " \".\"      "
      ]
     },
     "execution_count": 1,
     "metadata": {},
     "output_type": "execute_result"
    }
   ],
   "source": [
    "push!(LOAD_PATH, \".\")\n",
    "# import Grib2"
   ]
  },
  {
   "cell_type": "code",
   "execution_count": 2,
   "metadata": {},
   "outputs": [
    {
     "data": {
      "text/plain": [
       "\"test_grib2s/rap_130_20180319_1400_012.grb2\""
      ]
     },
     "execution_count": 2,
     "metadata": {},
     "output_type": "execute_result"
    }
   ],
   "source": [
    "test_grib2_path = \"test_grib2s/href.t00z.conus.mean.f07.grib2\"\n",
    "test_grib2_path = \"test_grib2s/rap_130_20180319_1400_012.grb2\""
   ]
  },
  {
   "cell_type": "code",
   "execution_count": 3,
   "metadata": {},
   "outputs": [],
   "source": [
    "# test_href_grid = Grib2.read_grid(test_grib2_path)"
   ]
  },
  {
   "cell_type": "code",
   "execution_count": 4,
   "metadata": {},
   "outputs": [],
   "source": [
    "# test_href_inventory = Grib2.read_inventory(test_grib2_path)"
   ]
  },
  {
   "cell_type": "code",
   "execution_count": 5,
   "metadata": {},
   "outputs": [],
   "source": [
    "# test_href_layers_data = Grib2.read_layers_data_raw(test_grib2_path, test_href_inventory[234:236,:])"
   ]
  },
  {
   "cell_type": "code",
   "execution_count": 6,
   "metadata": {},
   "outputs": [],
   "source": [
    "# Grib2.plot(test_href_grid, test_href_layers_data[:,1])"
   ]
  },
  {
   "cell_type": "code",
   "execution_count": 7,
   "metadata": {},
   "outputs": [],
   "source": [
    "# Grib2.plot(test_href_grid, test_href_layers_data[:,2])"
   ]
  },
  {
   "cell_type": "code",
   "execution_count": 8,
   "metadata": {},
   "outputs": [],
   "source": [
    "# Grib2.plot(test_href_grid, test_href_layers_data[:,3])"
   ]
  },
  {
   "cell_type": "code",
   "execution_count": 9,
   "metadata": {},
   "outputs": [],
   "source": [
    "# test_href_inventory[235,:]"
   ]
  },
  {
   "cell_type": "code",
   "execution_count": 10,
   "metadata": {},
   "outputs": [],
   "source": [
    "# test_href_inventory[236,:]"
   ]
  },
  {
   "cell_type": "code",
   "execution_count": 11,
   "metadata": {},
   "outputs": [],
   "source": [
    "# conus_data = Conus.grid_to_conus(test_href_grid)"
   ]
  },
  {
   "cell_type": "code",
   "execution_count": 12,
   "metadata": {},
   "outputs": [],
   "source": [
    "# Grib2.plot(test_href_grid, conus_data)"
   ]
  },
  {
   "cell_type": "code",
   "execution_count": 13,
   "metadata": {},
   "outputs": [],
   "source": [
    "# import DelimitedFiles # For readdlm\n",
    "# DelimitedFiles.writedlm(\"conus_rap_grid.tsv\", conus_data)"
   ]
  },
  {
   "cell_type": "code",
   "execution_count": 14,
   "metadata": {},
   "outputs": [],
   "source": [
    "# import Grids\n",
    "# Grids.to_file(\"rap_130_grid.jld\", test_href_grid)\n",
    "# Grids.to_file(\"rap_130_grid.bin\", Grib2.read_grid(\"test_grib2s/rap_130_20180319_1400_012.grb2\"))"
   ]
  },
  {
   "cell_type": "code",
   "execution_count": 15,
   "metadata": {},
   "outputs": [],
   "source": [
    "# import DelimitedFiles # For readdlm\n",
    "# DelimitedFiles.readdlm(\"conus_on_rap_130_grid.txt\")[:,1]"
   ]
  },
  {
   "cell_type": "code",
   "execution_count": 16,
   "metadata": {},
   "outputs": [],
   "source": [
    "# import Conus"
   ]
  },
  {
   "cell_type": "code",
   "execution_count": 17,
   "metadata": {},
   "outputs": [],
   "source": [
    "# conus_data = map(latlon -> Conus.is_in_conus(latlon) ? 1.0f0 : 0.0f0, test_href_grid.lat_lons)\n",
    "# Grib2.plot(test_href_grid, conus_data)"
   ]
  },
  {
   "cell_type": "code",
   "execution_count": 18,
   "metadata": {},
   "outputs": [],
   "source": [
    "# import DelimitedFiles\n",
    "# DelimitedFiles.readdlm(\"storm_data/tornadoes.csv\",','; header=true)"
   ]
  },
  {
   "cell_type": "code",
   "execution_count": 19,
   "metadata": {},
   "outputs": [
    {
     "name": "stderr",
     "output_type": "stream",
     "text": [
      "┌ Info: Recompiling stale cache file /Users/brian/.julia/compiled/v1.0/StormEvents.ji for StormEvents [top-level]\n",
      "└ @ Base loading.jl:1190\n"
     ]
    }
   ],
   "source": [
    "import StormEvents"
   ]
  },
  {
   "cell_type": "code",
   "execution_count": 20,
   "metadata": {},
   "outputs": [
    {
     "data": {
      "text/plain": [
       "5103-element Array{StormEvents.Tornado,1}:\n",
       " StormEvents.Tornado(1389443820, 1389444060, 240, (34.3328, -84.5286), (34.3476, -84.4811))\n",
       " StormEvents.Tornado(1389472320, 1389472500, 180, (36.8769, -76.6721), (36.8902, -76.6409))\n",
       " StormEvents.Tornado(1389472320, 1389472440, 120, (37.025, -76.6377), (37.0354, -76.6167)) \n",
       " StormEvents.Tornado(1389473400, 1389473580, 180, (37.08, -76.3), (37.09, -76.285))        \n",
       " StormEvents.Tornado(1392927900, 1392928500, 600, (39.518, -90.841), (39.633, -90.67))     \n",
       " StormEvents.Tornado(1392929280, 1392929340, 60, (39.7853, -90.4215), (39.788, -90.4178))  \n",
       " StormEvents.Tornado(1392929520, 1392929940, 420, (39.8193, -90.4178), (39.8743, -90.3015))\n",
       " StormEvents.Tornado(1392929940, 1392930000, 60, (39.8743, -90.3015), (39.8832, -90.2887)) \n",
       " StormEvents.Tornado(1392932580, 1392932640, 60, (39.5671, -89.6256), (39.568, -89.6216))  \n",
       " StormEvents.Tornado(1392933420, 1392933960, 540, (39.7648, -89.391), (39.8562, -89.291))  \n",
       " StormEvents.Tornado(1392933420, 1392933480, 60, (38.7575, -89.6151), (38.7651, -89.598))  \n",
       " StormEvents.Tornado(1392933480, 1392934320, 840, (38.7651, -89.598), (38.8432, -89.4147)) \n",
       " StormEvents.Tornado(1392934140, 1392934440, 300, (39.2586, -89.234), (39.3132, -89.1396)) \n",
       " ⋮                                                                                         \n",
       " StormEvents.Tornado(1516586640, 1516586700, 60, (37.0474, -93.8293), (37.0659, -93.8213)) \n",
       " StormEvents.Tornado(1516587540, 1516587600, 60, (33.0015, -95.3288), (33.0092, -95.316))  \n",
       " StormEvents.Tornado(1516591560, 1516592100, 540, (33.4474, -94.6484), (33.5266, -94.571)) \n",
       " StormEvents.Tornado(1516592580, 1516592700, 120, (33.5655, -94.5114), (33.57, -94.5037))  \n",
       " StormEvents.Tornado(1516592880, 1516593180, 300, (33.6222, -94.4294), (33.6864, -94.3512))\n",
       " StormEvents.Tornado(1516603740, 1516603980, 240, (35.1771, -92.3648), (35.2038, -92.3299))\n",
       " StormEvents.Tornado(1516605120, 1516605180, 60, (38.5093, -90.8235), (38.5102, -90.8204)) \n",
       " StormEvents.Tornado(1516608600, 1516608660, 60, (30.76, -93.89), (30.7671, -93.892))      \n",
       " StormEvents.Tornado(1516609380, 1516609440, 60, (31.1894, -93.3413), (31.1895, -93.3407)) \n",
       " StormEvents.Tornado(1516634160, 1516634700, 540, (31.74, -89.48), (31.78, -89.4))         \n",
       " StormEvents.Tornado(1516634700, 1516635000, 300, (31.78, -89.4), (31.79, -89.37))         \n",
       " StormEvents.Tornado(1516927200, 1516927200, 0, (40.8081, -124.1631), (40.8081, -124.1631))"
      ]
     },
     "execution_count": 20,
     "metadata": {},
     "output_type": "execute_result"
    }
   ],
   "source": [
    "StormEvents.tornadoes"
   ]
  },
  {
   "cell_type": "code",
   "execution_count": 30,
   "metadata": {},
   "outputs": [
    {
     "data": {
      "text/plain": [
       "1-element Array{Tuple{Tuple{Float64,Float64},Tuple{Float64,Float64}},1}:\n",
       " ((39.774959879442896, -89.37990196026891), (39.774959879442896, -89.37990196026891))"
      ]
     },
     "execution_count": 30,
     "metadata": {},
     "output_type": "execute_result"
    }
   ],
   "source": [
    "StormEvents.tornado_segments_around_time(1392933480, 0)"
   ]
  },
  {
   "cell_type": "code",
   "execution_count": 22,
   "metadata": {},
   "outputs": [],
   "source": [
    "# import Proj4\n",
    "# wgs84 = Proj4.Projection(\"+proj=longlat +ellps=WGS84 +datum=WGS84 +no_defs\")"
   ]
  },
  {
   "cell_type": "code",
   "execution_count": 23,
   "metadata": {},
   "outputs": [],
   "source": [
    "# Julia wrapper doesn't set the geod by default :(\n",
    "# major_axis, eccentricity_squared = Proj4._get_spheroid_defn(wgs84.rep)"
   ]
  },
  {
   "cell_type": "code",
   "execution_count": 24,
   "metadata": {},
   "outputs": [],
   "source": [
    "# wgs84.geod = Proj4.geod_geodesic(major_axis, 1-sqrt(1-eccentricity_squared))\n",
    "# Proj4.geod_geodesic(major_axis, 1-sqrt(1-eccentricity_squared))"
   ]
  },
  {
   "cell_type": "code",
   "execution_count": 25,
   "metadata": {},
   "outputs": [],
   "source": [
    "# Proj4._geod_inverse(wgs84.geod, [-89.598, 38.7651], [-89.4147, 38.8432])"
   ]
  },
  {
   "cell_type": "code",
   "execution_count": 26,
   "metadata": {},
   "outputs": [],
   "source": [
    "# Proj4._geod_inverse(wgs84.geod, [-89.4, 31.78], [-89.37, 31.79])"
   ]
  },
  {
   "cell_type": "code",
   "execution_count": 27,
   "metadata": {},
   "outputs": [],
   "source": [
    "# StormEvents.tornado_segments_around_time(1392933480, 800)"
   ]
  },
  {
   "cell_type": "code",
   "execution_count": 28,
   "metadata": {},
   "outputs": [],
   "source": [
    "# Proj4.Projection(\"+proj=longlat +ellps=WGS84 +datum=WGS84 +no_defs\").geod"
   ]
  }
 ],
 "metadata": {
  "kernelspec": {
   "display_name": "Julia 1.0.3",
   "language": "julia",
   "name": "julia-1.0"
  },
  "language_info": {
   "file_extension": ".jl",
   "mimetype": "application/julia",
   "name": "julia",
   "version": "1.0.3"
  }
 },
 "nbformat": 4,
 "nbformat_minor": 2
}
